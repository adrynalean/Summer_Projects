{
  "nbformat": 4,
  "nbformat_minor": 0,
  "metadata": {
    "colab": {
      "provenance": [],
      "gpuType": "T4",
      "authorship_tag": "ABX9TyOArvIsDAELmICiQ7jhtE5e",
      "include_colab_link": true
    },
    "kernelspec": {
      "name": "python3",
      "display_name": "Python 3"
    },
    "language_info": {
      "name": "python"
    },
    "accelerator": "GPU"
  },
  "cells": [
    {
      "cell_type": "markdown",
      "metadata": {
        "id": "view-in-github",
        "colab_type": "text"
      },
      "source": [
        "<a href=\"https://colab.research.google.com/github/adrynalean/Summer_Projects/blob/MNIST_machine/MNIST_Recognition_machine.ipynb\" target=\"_parent\"><img src=\"https://colab.research.google.com/assets/colab-badge.svg\" alt=\"Open In Colab\"/></a>"
      ]
    },
    {
      "cell_type": "code",
      "source": [
        "# Setting up imports"
      ],
      "metadata": {
        "id": "09yCEjD5eGIm"
      },
      "execution_count": null,
      "outputs": []
    },
    {
      "cell_type": "code",
      "execution_count": null,
      "metadata": {
        "id": "19EoU7esYg4K"
      },
      "outputs": [],
      "source": [
        "import torch\n",
        "import torch.nn as nn\n",
        "from torch.optim import SGD\n",
        "import torch.nn.functional as F\n",
        "from torch.utils.data import Dataset, DataLoader\n",
        "import torchvision\n",
        "import numpy as np\n",
        "import matplotlib.pyplot as plt\n",
        "from torchvision import datasets, transforms"
      ]
    },
    {
      "cell_type": "code",
      "source": [
        "# set manual seed for reproducibility\n",
        "torch.manual_seed(42)\n",
        "\n",
        "if torch.cuda.is_available():\n",
        "  torch.cuda.manual_seed(42)"
      ],
      "metadata": {
        "id": "K1rAYcOskJzq"
      },
      "execution_count": null,
      "outputs": []
    },
    {
      "cell_type": "code",
      "source": [
        "# Defining transformation\n",
        "\n",
        "transform = transforms.Compose([\n",
        "    transforms.ToTensor(),\n",
        "    transforms.Normalize((0.1307,), (0.3081,))\n",
        "])\n"
      ],
      "metadata": {
        "id": "f4kifpkWe-gn"
      },
      "execution_count": null,
      "outputs": []
    },
    {
      "cell_type": "code",
      "source": [
        "# Preparing data sets\n",
        "\n",
        "train_dataset = datasets.MNIST(root='./data', train=True, download=True, transform=transform)\n",
        "test_dataset = datasets.MNIST(root='./data', train=False, download=True, transform=transform)\n",
        "\n",
        "train_loader = DataLoader(dataset=train_dataset, batch_size=64, shuffle=True)\n",
        "test_loader = DataLoader(dataset=test_dataset, batch_size=64, shuffle=False)\n",
        "\n",
        "\n",
        "# # Verify Data\n",
        "\n",
        "# examples = enumerate(train_loader)\n",
        "# batch_idx, (example_data, example_targets) = next(examples)\n",
        "\n",
        "# fig = plt.figure()\n",
        "# for i in range(6):\n",
        "#     plt.subplot(2, 3, i+1)\n",
        "#     plt.tight_layout()\n",
        "#     plt.imshow(example_data[i][0], cmap='gray', interpolation='none')\n",
        "#     plt.title(f\"Label: {example_targets[i]}\")\n",
        "#     plt.xticks([])\n",
        "#     plt.yticks([])\n",
        "# plt.show()"
      ],
      "metadata": {
        "collapsed": true,
        "id": "lIuLzcV0eFru"
      },
      "execution_count": null,
      "outputs": []
    },
    {
      "cell_type": "code",
      "source": [
        "# Making the Model\n",
        "class MNIST_model0(nn.Module):\n",
        "  def __init__(self):\n",
        "    super(MNIST_model0, self).__init__()\n",
        "    self.layer_1 = nn.Linear(28*28, 512)\n",
        "    self.layer_2 = nn.Linear(512, 256)\n",
        "    self.layer_3 = nn.Linear(256, 10)\n",
        "\n",
        "  def forward(self, x):\n",
        "    x = x.view(-1, 28*28)  # This flattens the image into one huge array\n",
        "    x = torch.relu(self.layer_1(x))\n",
        "    x = torch.relu(self.layer_2(x))\n",
        "    x = self.layer_3(x)\n",
        "\n",
        "    return x\n",
        "\n",
        "\n",
        "model1 = MNIST_model0()\n",
        "model1"
      ],
      "metadata": {
        "colab": {
          "base_uri": "https://localhost:8080/"
        },
        "id": "Zsh9zoeghlxy",
        "outputId": "cd3c3396-80e6-4537-8cb2-bff9a9388d03",
        "collapsed": true
      },
      "execution_count": null,
      "outputs": [
        {
          "output_type": "execute_result",
          "data": {
            "text/plain": [
              "MNIST_model0(\n",
              "  (layer_1): Linear(in_features=784, out_features=512, bias=True)\n",
              "  (layer_2): Linear(in_features=512, out_features=256, bias=True)\n",
              "  (layer_3): Linear(in_features=256, out_features=10, bias=True)\n",
              ")"
            ]
          },
          "metadata": {},
          "execution_count": 71
        }
      ]
    },
    {
      "cell_type": "code",
      "source": [
        "# Device agnostic Code\n",
        "device = torch.device('cuda' if torch.cuda.is_available() else 'cpu')\n",
        "model1.to(device)"
      ],
      "metadata": {
        "colab": {
          "base_uri": "https://localhost:8080/"
        },
        "id": "d51YyEG9kmwz",
        "outputId": "297ce4df-a3d9-4b4f-8742-f5c1dfe41d58"
      },
      "execution_count": null,
      "outputs": [
        {
          "output_type": "execute_result",
          "data": {
            "text/plain": [
              "MNIST_model0(\n",
              "  (layer_1): Linear(in_features=784, out_features=512, bias=True)\n",
              "  (layer_2): Linear(in_features=512, out_features=256, bias=True)\n",
              "  (layer_3): Linear(in_features=256, out_features=10, bias=True)\n",
              ")"
            ]
          },
          "metadata": {},
          "execution_count": 72
        }
      ]
    },
    {
      "cell_type": "code",
      "source": [
        "# Defining a loss function and a optimizer\n",
        "\n",
        "criterion = nn.CrossEntropyLoss()\n",
        "optimizer = torch.optim.Adam(params = model1.parameters(), lr = 0.001)"
      ],
      "metadata": {
        "id": "ZfiYaQN3jKz2"
      },
      "execution_count": null,
      "outputs": []
    },
    {
      "cell_type": "code",
      "source": [
        "# Let's train the model!\n",
        "\n",
        "epochs = 5\n",
        "\n",
        "for epoch in range(epochs):\n",
        "\n",
        "  model1.train()\n",
        "  train_loss = 0\n",
        "  correct = 0\n",
        "  total = 0\n",
        "\n",
        "\n",
        "  for batch_idx, (data, target) in enumerate(train_loader):\n",
        "    data, target = data.to(device), target.to(device)\n",
        "     # 1. Zero Grad\n",
        "    optimizer.zero_grad()\n",
        "\n",
        "    # 2. Forward Pass\n",
        "    output = model1(data)\n",
        "\n",
        "    # 3. Calculate the loss\n",
        "    loss = criterion(output, target)\n",
        "\n",
        "    # 4. Backpropogation\n",
        "    loss.backward()\n",
        "\n",
        "    # 5. Optimizer step ( updating the weights )\n",
        "    optimizer.step()\n",
        "\n",
        "\n",
        "\n",
        "    train_loss += loss.item()\n",
        "    _, predicted = torch.max(output.data, 1)\n",
        "    total += target.size(0)\n",
        "    correct += (predicted == target).sum().item()\n",
        "\n",
        "  train_acc = 100 * correct / total\n",
        "\n",
        "\n",
        "  ### Testing\n",
        "  model1.eval()\n",
        "  test_loss = 0\n",
        "  correct = 0\n",
        "  total = 0\n",
        "\n",
        "  with torch.inference_mode():\n",
        "    for data, target in test_loader:\n",
        "      data, target = data.to(device), target.to(device)\n",
        "\n",
        "      output = model1(data)\n",
        "      loss = criterion(output, target)\n",
        "      test_loss += loss.item()\n",
        "      _, predicted = torch.max(output.data, 1)\n",
        "      total += target.size(0)\n",
        "      correct += (predicted == target).sum().item()\n",
        "\n",
        "    test_acc = 100 * correct / total"
      ],
      "metadata": {
        "id": "_kF69NVJjgAi"
      },
      "execution_count": null,
      "outputs": []
    },
    {
      "cell_type": "code",
      "source": [
        "# Let's print it out\n",
        "\n",
        "print(f'Epoch {epoch+1}/{epochs}, '\n",
        "        f'Train Loss: {train_loss/len(train_loader):.4f}, '\n",
        "        f'Train Acc: {train_acc:.2f}%, '\n",
        "        f'Test Loss: {test_loss/len(test_loader):.4f}, '\n",
        "        f'Test Acc: {test_acc:.2f}%')"
      ],
      "metadata": {
        "colab": {
          "base_uri": "https://localhost:8080/"
        },
        "id": "BrpmQhXamZRy",
        "outputId": "0c8dafbf-c66a-4126-bf5a-cd2a2dec9726"
      },
      "execution_count": null,
      "outputs": [
        {
          "output_type": "stream",
          "name": "stdout",
          "text": [
            "Epoch 5/5, Train Loss: 0.0370, Train Acc: 98.81%, Test Loss: 0.0732, Test Acc: 97.87%\n"
          ]
        }
      ]
    },
    {
      "cell_type": "code",
      "source": [
        "# Visualize Visualize Visualize\n",
        "import matplotlib.pyplot as plt\n",
        "import numpy as np\n",
        "import torch\n",
        "import torchvision\n",
        "from torchvision import datasets, transforms\n",
        "from torch.utils.data import DataLoader\n",
        "\n",
        "def imshow(img):\n",
        "    img = img / 2 + 0.5  # unnormalize\n",
        "    npimg = img.numpy()\n",
        "    plt.imshow(np.transpose(npimg, (1, 2, 0)))\n",
        "    plt.show()\n",
        "\n",
        "\n",
        "# Load the test dataset\n",
        "transform = transforms.Compose([\n",
        "    transforms.ToTensor(),\n",
        "    transforms.Normalize((0.1307,), (0.3081,))\n",
        "])\n",
        "\n",
        "test_dataset = datasets.MNIST(root='./data', train=False, download=True, transform=transform)\n",
        "test_loader = DataLoader(test_dataset, batch_size=4, shuffle=True)\n",
        "\n",
        "# Get some random test images\n",
        "dataiter = iter(test_loader)\n",
        "images, labels = next(dataiter)\n",
        "\n",
        "# Show images\n",
        "imshow(torchvision.utils.make_grid(images))\n",
        "print('GroundTruth: ', ' '.join('%5s' % labels[j].item() for j in range(4)))\n",
        "\n",
        "# Move the images to the appropriate device\n",
        "images = images.to(device)\n",
        "\n",
        "# Predict the classes\n",
        "model1.eval()  # Set the model to evaluation mode\n",
        "outputs = model1(images)\n",
        "_, predicted = torch.max(outputs, 1)\n",
        "\n",
        "print('Predicted: ', ' '.join('%5s' % predicted[j].item() for j in range(4)))\n",
        "\n",
        "\n"
      ],
      "metadata": {
        "colab": {
          "base_uri": "https://localhost:8080/",
          "height": 266
        },
        "id": "fUohPkp5mdNh",
        "outputId": "4fe3e85f-e2f6-40ed-a5af-685c01e276a1"
      },
      "execution_count": null,
      "outputs": [
        {
          "output_type": "stream",
          "name": "stderr",
          "text": [
            "WARNING:matplotlib.image:Clipping input data to the valid range for imshow with RGB data ([0..1] for floats or [0..255] for integers).\n"
          ]
        },
        {
          "output_type": "display_data",
          "data": {
            "text/plain": [
              "<Figure size 640x480 with 1 Axes>"
            ],
            "image/png": "[encoded data removed]"
          },
          "metadata": {}
        },
        {
          "output_type": "stream",
          "name": "stdout",
          "text": [
            "GroundTruth:      2     7     0     5\n",
            "Predicted:      2     7     0     5\n"
          ]
        }
      ]
    }
  ]
}